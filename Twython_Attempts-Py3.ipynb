{
 "cells": [
  {
   "cell_type": "code",
   "execution_count": 1,
   "metadata": {
    "colab": {},
    "colab_type": "code",
    "id": "Boo059maV4KY"
   },
   "outputs": [],
   "source": [
    "#tweets_df.loc[0,'place']\n",
    "#tweets_df.shape"
   ]
  },
  {
   "cell_type": "code",
   "execution_count": 2,
   "metadata": {
    "colab": {},
    "colab_type": "code",
    "id": "CsssKuvoV3ii"
   },
   "outputs": [],
   "source": [
    "#tweets_df.loc[30,'coordinates']"
   ]
  },
  {
   "cell_type": "markdown",
   "metadata": {
    "colab_type": "text",
    "id": "jzBpRz5f1YzS"
   },
   "source": [
    "# Get Twython API"
   ]
  },
  {
   "cell_type": "code",
   "execution_count": 3,
   "metadata": {
    "colab": {},
    "colab_type": "code",
    "id": "A-C2_KoP1GQH"
   },
   "outputs": [],
   "source": [
    "from twython import Twython"
   ]
  },
  {
   "cell_type": "code",
   "execution_count": 4,
   "metadata": {
    "colab": {},
    "colab_type": "code",
    "id": "FxEIux-4I85d"
   },
   "outputs": [],
   "source": [
    "import numpy as np\n",
    "import pandas as pd"
   ]
  },
  {
   "cell_type": "code",
   "execution_count": 5,
   "metadata": {
    "colab": {},
    "colab_type": "code",
    "id": "oHoVOfcgUB6A"
   },
   "outputs": [],
   "source": [
    "APP_KEY = 'P0bUVPSQymvevVJxvvpqwOj6H' \n",
    "APP_SECRET = '5JnOWfNSCe3Ynh9pIm7KMQvH1IQqr9yNM6FhRzVUiuAaTh7Rwy'"
   ]
  },
  {
   "cell_type": "code",
   "execution_count": 6,
   "metadata": {
    "colab": {},
    "colab_type": "code",
    "id": "fE9JbX0Y1SlZ"
   },
   "outputs": [],
   "source": [
    "def get_twython_api(APP_KEY,APP_SECRET):\n",
    "    twitter = Twython(APP_KEY, APP_SECRET, oauth_version=2)\n",
    "    ACCESS_TOKEN = twitter.obtain_access_token()\n",
    "    twitter = Twython(APP_KEY, access_token=ACCESS_TOKEN)\n",
    "    return twitter\n",
    "\n",
    "twitter = get_twython_api(APP_KEY,APP_SECRET)"
   ]
  },
  {
   "cell_type": "code",
   "execution_count": 14,
   "metadata": {},
   "outputs": [
    {
     "name": "stdout",
     "output_type": "stream",
     "text": [
      "Total number of rows in python_developers is -  1\n",
      "Printing each row's column values i.e.  developer record\n",
      "id =  5\n",
      "lastname=  Paul\n",
      "place=  USA\n",
      "MySQL connection is closed\n"
     ]
    }
   ],
   "source": [
    "import MySQLdb\n",
    "#from MySQLdb import _mysql\n",
    "db=MySQLdb.connect(\"localhost\",\"root\",\"Alpha-Ejo125\",\"test\")\n",
    "# db.query(\"\"\"SELECT * FROM Persons limit 5\"\"\")\n",
    "# r=db.store_result()\n",
    "# r.fetch_row()\n",
    "\n",
    "# sql_select_query = \"SELECT * FROM Persons limit 5\"\n",
    "# cursor = db.cursor()\n",
    "# try:\n",
    "#     cursor.execute(sql_select_Query)\n",
    "#     records = cursor.fetchall()\n",
    "#     print(\"Total number of rows in python_developers is - \", cursor.rowcount)\n",
    "#     print (\"Printing each row's column values i.e.  developer record\")\n",
    "#     for row in records:\n",
    "#         print(\"id = \", row[0], )\n",
    "#         print(\"lastname= \", row[1])\n",
    "#         print(\"place= \", row[3])\n",
    "\n",
    "#         cursor.close()\n",
    "# except sql.Error as e :\n",
    "#     print (\"Error while connecting to MySQL\", e)\n",
    "# finally:\n",
    "#     #closing database connection.\n",
    "#     db.close()\n",
    "#     print(\"MySQL connection is closed\")"
   ]
  },
  {
   "cell_type": "markdown",
   "metadata": {
    "colab_type": "text",
    "id": "6YSG6g-iJrSH"
   },
   "source": [
    "# Make DataFrame"
   ]
  },
  {
   "cell_type": "code",
   "execution_count": 12,
   "metadata": {
    "colab": {},
    "colab_type": "code",
    "id": "w6pVNIDp1TFm"
   },
   "outputs": [],
   "source": [
    "def search_twitter(q,result_type,count):\n",
    "    return twitter.search(q=q,result_type=result_type,count=count)\n",
    "\n",
    "results = search_twitter('#gameofthrones','recent',150)"
   ]
  },
  {
   "cell_type": "code",
   "execution_count": 14,
   "metadata": {
    "colab": {
     "base_uri": "https://localhost:8080/",
     "height": 34
    },
    "colab_type": "code",
    "id": "A1-UqCjZV4a1",
    "outputId": "7d0c22c9-fca9-4816-f328-c5c35463ff79"
   },
   "outputs": [
    {
     "data": {
      "text/plain": [
       "u'RT @CaraotaDigital: \\xa1Y no paran! Cada vez m\\xe1s memes del cap\\xedtulo final de #GameOfThrones              ,_              https://t.co/sMEf2gog\\u2026'"
      ]
     },
     "execution_count": 14,
     "metadata": {},
     "output_type": "execute_result"
    }
   ],
   "source": [
    "results['statuses'][19]['text']"
   ]
  },
  {
   "cell_type": "code",
   "execution_count": 15,
   "metadata": {
    "colab": {},
    "colab_type": "code",
    "id": "Xok2Eep1IFWc"
   },
   "outputs": [
    {
     "ename": "NameError",
     "evalue": "global name 'pd' is not defined",
     "output_type": "error",
     "traceback": [
      "\u001b[0;31m---------------------------------------------------------------------------\u001b[0m",
      "\u001b[0;31mNameError\u001b[0m                                 Traceback (most recent call last)",
      "\u001b[0;32m<ipython-input-15-76deca300784>\u001b[0m in \u001b[0;36m<module>\u001b[0;34m()\u001b[0m\n\u001b[1;32m      4\u001b[0m     \u001b[0;32mreturn\u001b[0m \u001b[0mtweets_df\u001b[0m\u001b[0;34m\u001b[0m\u001b[0m\n\u001b[1;32m      5\u001b[0m \u001b[0;34m\u001b[0m\u001b[0m\n\u001b[0;32m----> 6\u001b[0;31m \u001b[0mtweets_df\u001b[0m \u001b[0;34m=\u001b[0m \u001b[0mconvert_to_df\u001b[0m\u001b[0;34m(\u001b[0m\u001b[0mresults\u001b[0m\u001b[0;34m)\u001b[0m\u001b[0;34m\u001b[0m\u001b[0m\n\u001b[0m",
      "\u001b[0;32m<ipython-input-15-76deca300784>\u001b[0m in \u001b[0;36mconvert_to_df\u001b[0;34m(results)\u001b[0m\n\u001b[1;32m      1\u001b[0m \u001b[0;32mdef\u001b[0m \u001b[0mconvert_to_df\u001b[0m\u001b[0;34m(\u001b[0m\u001b[0mresults\u001b[0m\u001b[0;34m)\u001b[0m\u001b[0;34m:\u001b[0m\u001b[0;34m\u001b[0m\u001b[0m\n\u001b[0;32m----> 2\u001b[0;31m     \u001b[0mtweets_df\u001b[0m \u001b[0;34m=\u001b[0m \u001b[0mpd\u001b[0m\u001b[0;34m.\u001b[0m\u001b[0mDataFrame\u001b[0m\u001b[0;34m(\u001b[0m\u001b[0;34m)\u001b[0m\u001b[0;34m\u001b[0m\u001b[0m\n\u001b[0m\u001b[1;32m      3\u001b[0m     \u001b[0mtweets_df\u001b[0m \u001b[0;34m=\u001b[0m \u001b[0mtweets_df\u001b[0m\u001b[0;34m.\u001b[0m\u001b[0mappend\u001b[0m\u001b[0;34m(\u001b[0m\u001b[0mresult\u001b[0m\u001b[0;34m[\u001b[0m\u001b[0;34m'statuses'\u001b[0m\u001b[0;34m]\u001b[0m\u001b[0;34m,\u001b[0m\u001b[0mignore_index\u001b[0m \u001b[0;34m=\u001b[0m \u001b[0mTrue\u001b[0m\u001b[0;34m)\u001b[0m\u001b[0;34m\u001b[0m\u001b[0m\n\u001b[1;32m      4\u001b[0m     \u001b[0;32mreturn\u001b[0m \u001b[0mtweets_df\u001b[0m\u001b[0;34m\u001b[0m\u001b[0m\n\u001b[1;32m      5\u001b[0m \u001b[0;34m\u001b[0m\u001b[0m\n",
      "\u001b[0;31mNameError\u001b[0m: global name 'pd' is not defined"
     ]
    }
   ],
   "source": [
    "def convert_to_df(results):\n",
    "    tweets_df = pd.DataFrame()\n",
    "    tweets_df = tweets_df.append(result['statuses'],ignore_index = True)\n",
    "    return tweets_df\n",
    "\n",
    "tweets_df = convert_to_df(results)"
   ]
  },
  {
   "cell_type": "code",
   "execution_count": 16,
   "metadata": {
    "colab": {
     "base_uri": "https://localhost:8080/",
     "height": 153
    },
    "colab_type": "code",
    "id": "QkTyeHB0JS2Z",
    "outputId": "48689ec3-89f5-41c3-caaf-d4ab23f4eead"
   },
   "outputs": [
    {
     "ename": "NameError",
     "evalue": "name 'tweets_df' is not defined",
     "output_type": "error",
     "traceback": [
      "\u001b[0;31m---------------------------------------------------------------------------\u001b[0m",
      "\u001b[0;31mNameError\u001b[0m                                 Traceback (most recent call last)",
      "\u001b[0;32m<ipython-input-16-caca440ed042>\u001b[0m in \u001b[0;36m<module>\u001b[0;34m()\u001b[0m\n\u001b[0;32m----> 1\u001b[0;31m \u001b[0mtweets_df\u001b[0m\u001b[0;34m.\u001b[0m\u001b[0mcolumns\u001b[0m\u001b[0;34m\u001b[0m\u001b[0m\n\u001b[0m\u001b[1;32m      2\u001b[0m \u001b[0;31m#tweet_id,text,timestamp,num_hashtags,num_user_mention,num_urls,num_likes,num_retweets,place,user_id,user_name,user_screen_name\u001b[0m\u001b[0;34m\u001b[0m\u001b[0;34m\u001b[0m\u001b[0m\n",
      "\u001b[0;31mNameError\u001b[0m: name 'tweets_df' is not defined"
     ]
    }
   ],
   "source": [
    "tweets_df.columns\n",
    "#tweet_id,text,timestamp,num_hashtags,num_user_mention,num_urls,num_likes,num_retweets,place,user_id,user_name,user_screen_name\n"
   ]
  },
  {
   "cell_type": "code",
   "execution_count": 0,
   "metadata": {
    "colab": {
     "base_uri": "https://localhost:8080/",
     "height": 34
    },
    "colab_type": "code",
    "id": "qS-ON21HLYjb",
    "outputId": "05ed62aa-93cb-4e07-fcc5-96588977b615"
   },
   "outputs": [
    {
     "data": {
      "text/plain": [
       "u'RT @ThePixelFactor: We\\u2019re not ready. #GameOfThrones https://t.co/0l3u4ivKdc'"
      ]
     },
     "execution_count": 17,
     "metadata": {
      "tags": []
     },
     "output_type": "execute_result"
    }
   ],
   "source": [
    "tweets_df.loc[19,'text']"
   ]
  },
  {
   "cell_type": "code",
   "execution_count": 0,
   "metadata": {
    "colab": {},
    "colab_type": "code",
    "id": "GkTtXvn7V3AL"
   },
   "outputs": [],
   "source": [
    "columns = ['coordinates','created_at','entities','favorite_count','id_str','lang','metadata','place','retweet_count','retweeted','retweeted_status','text','user']\n",
    "tweets_sel = tweets_df[columns]\n",
    "combined = ['entities','retweeted_status','user','place']"
   ]
  },
  {
   "cell_type": "code",
   "execution_count": 0,
   "metadata": {
    "colab": {},
    "colab_type": "code",
    "id": "t2YeEsofV27Y"
   },
   "outputs": [],
   "source": [
    "# cols_tweet_metadata = ['tweet_id','text','created_at','num_hashtags','num_user_mentions','num_urls','num_likes','num_retweets','uploader_name','tweet_location']\n",
    "# tweet_metadata_df = pd.DataFrame(columns=cols_tweet_metadata)\n",
    "# for i in range(tweets_df.shape[0]):\n",
    "#   tweet_id = tweets_df.loc[i,'id_str']\n",
    "#   text=tweets_df.loc[i,'text']\n",
    "#   created_at=tweets_df.loc[i,'created_at']\n",
    "#   num_hashtags=tweets_df.loc[i,'entities'][]\n",
    "  \n",
    "#   user_data = [timeline[i]['user'][j] for j in ['id_str','name','screen_name']]\n",
    "#   #print(user_data)\n",
    "#   if(len(user_data)!=0):\n",
    "#     lists_timeline = [tweet_id,text,created_at,]+user_data\n",
    "#     temp_df = pd.DataFrame([lists_timeline],columns=cols_timeline)\n",
    "#     tweet_user_timeline_df = tweet_user_timeline_df.append(temp_df,ignore_index=True)\n"
   ]
  },
  {
   "cell_type": "code",
   "execution_count": 0,
   "metadata": {
    "colab": {
     "base_uri": "https://localhost:8080/",
     "height": 207
    },
    "colab_type": "code",
    "id": "LVYLiPreV2un",
    "outputId": "96d945fd-a934-4de5-8b3e-3efb8d3c79b8"
   },
   "outputs": [
    {
     "name": "stdout",
     "output_type": "stream",
     "text": [
      "('entities',)\n",
      "[u'symbols', u'user_mentions', u'hashtags', u'urls']\n",
      "('entities',)\n",
      "[u'symbols', u'user_mentions', u'hashtags', u'urls']\n",
      "('retweeted_status',)\n",
      "[u'contributors', u'truncated', u'text', u'is_quote_status', u'in_reply_to_status_id', u'id', u'favorite_count', u'entities', u'retweeted', u'coordinates', u'source', u'in_reply_to_screen_name', u'in_reply_to_user_id', u'retweet_count', u'id_str', u'favorited', u'user', u'geo', u'in_reply_to_user_id_str', u'possibly_sensitive', u'lang', u'created_at', u'in_reply_to_status_id_str', u'place', u'metadata']\n",
      "('user',)\n",
      "[u'follow_request_sent', u'has_extended_profile', u'profile_use_background_image', u'default_profile_image', u'id', u'profile_background_image_url_https', u'verified', u'translator_type', u'profile_text_color', u'profile_image_url_https', u'profile_sidebar_fill_color', u'entities', u'followers_count', u'profile_sidebar_border_color', u'id_str', u'profile_background_color', u'listed_count', u'is_translation_enabled', u'utc_offset', u'statuses_count', u'description', u'friends_count', u'location', u'profile_link_color', u'profile_image_url', u'following', u'geo_enabled', u'profile_banner_url', u'profile_background_image_url', u'screen_name', u'lang', u'profile_background_tile', u'favourites_count', u'name', u'notifications', u'url', u'created_at', u'contributors_enabled', u'time_zone', u'protected', u'default_profile', u'is_translator']\n",
      "('user',)\n",
      "[u'follow_request_sent', u'has_extended_profile', u'profile_use_background_image', u'default_profile_image', u'id', u'profile_background_image_url_https', u'verified', u'translator_type', u'profile_text_color', u'profile_image_url_https', u'profile_sidebar_fill_color', u'entities', u'followers_count', u'profile_sidebar_border_color', u'id_str', u'profile_background_color', u'listed_count', u'is_translation_enabled', u'utc_offset', u'statuses_count', u'description', u'friends_count', u'location', u'profile_link_color', u'profile_image_url', u'following', u'geo_enabled', u'profile_banner_url', u'profile_background_image_url', u'screen_name', u'lang', u'profile_background_tile', u'favourites_count', u'name', u'notifications', u'url', u'created_at', u'contributors_enabled', u'time_zone', u'protected', u'default_profile', u'is_translator']\n"
     ]
    }
   ],
   "source": [
    "for i in combined:\n",
    "  if(tweets_sel.loc[0,i]!=None and not(type(tweets_sel.loc[0,i])==float)):\n",
    "    print(i,)\n",
    "    print(tweets_sel.loc[0,i].keys())\n",
    "  if(tweets_sel.loc[26,i]!=None and not(type(tweets_sel.loc[26,i])==float)):\n",
    "    print(i,)\n",
    "    print(tweets_sel.loc[26,i].keys())"
   ]
  },
  {
   "cell_type": "markdown",
   "metadata": {
    "colab_type": "text",
    "id": "7Be9wdy_akNv"
   },
   "source": [
    "## Make Hashtags DataFrame and num_hashtags"
   ]
  },
  {
   "cell_type": "code",
   "execution_count": 0,
   "metadata": {
    "colab": {},
    "colab_type": "code",
    "id": "kIiFct4VWhxn"
   },
   "outputs": [],
   "source": [
    "def get_hashtags(tweets_sel):  \n",
    "  #Hashtag\n",
    "  hashtags_df = pd.DataFrame(columns=['tweet_id','hashtag'])\n",
    "  tweets_sel['num_hashtags'] = [0 for i in range(tweets_sel.shape[0])]\n",
    "  for i in range(tweets_sel.shape[0]):\n",
    "    tweet_id = tweets_sel.loc[i,'id_str']\n",
    "    hashtags = list(map(lambda x:x.get('text'),tweets_sel.iloc[i]['entities']['hashtags']))\n",
    "    if(len(hashtags)!=0):\n",
    "      temp_df = pd.DataFrame(list(zip([tweet_id]*len(hashtags),hashtags)),columns=['tweet_id','hashtag'])\n",
    "      hashtags_df = hashtags_df.append(temp_df,ignore_index=True)\n",
    "      tweets_sel.loc[i,'num_hashtags'] = len(hashtags)\n",
    "  return tweets_sel,hashtags_df"
   ]
  },
  {
   "cell_type": "code",
   "execution_count": 0,
   "metadata": {
    "colab": {
     "base_uri": "https://localhost:8080/",
     "height": 85
    },
    "colab_type": "code",
    "id": "nS8O4YBOWmew",
    "outputId": "7bb64c29-7eb1-4bb6-b455-6eb7dba37024"
   },
   "outputs": [
    {
     "data": {
      "text/plain": [
       "Index([u'coordinates', u'created_at', u'entities', u'favorite_count',\n",
       "       u'id_str', u'lang', u'metadata', u'place', u'retweet_count',\n",
       "       u'retweeted', u'retweeted_status', u'text', u'user'],\n",
       "      dtype='object')"
      ]
     },
     "execution_count": 31,
     "metadata": {
      "tags": []
     },
     "output_type": "execute_result"
    }
   ],
   "source": [
    "tweets_sel.columns"
   ]
  },
  {
   "cell_type": "code",
   "execution_count": 0,
   "metadata": {
    "colab": {
     "base_uri": "https://localhost:8080/",
     "height": 139
    },
    "colab_type": "code",
    "id": "0cBwDIQMWsEA",
    "outputId": "c4027c63-cb1b-49c5-db9a-4b1a2f796113"
   },
   "outputs": [
    {
     "name": "stderr",
     "output_type": "stream",
     "text": [
      "/usr/local/lib/python2.7/dist-packages/ipykernel_launcher.py:4: SettingWithCopyWarning: \n",
      "A value is trying to be set on a copy of a slice from a DataFrame.\n",
      "Try using .loc[row_indexer,col_indexer] = value instead\n",
      "\n",
      "See the caveats in the documentation: http://pandas.pydata.org/pandas-docs/stable/indexing.html#indexing-view-versus-copy\n",
      "  after removing the cwd from sys.path.\n"
     ]
    }
   ],
   "source": [
    "tweets_sel,hashtags_df = get_hashtags(tweets_sel)"
   ]
  },
  {
   "cell_type": "code",
   "execution_count": 0,
   "metadata": {
    "colab": {
     "base_uri": "https://localhost:8080/",
     "height": 119
    },
    "colab_type": "code",
    "id": "qaNL46V9WxPu",
    "outputId": "9c3038fb-87a1-4b58-e0f2-7980ce4ad02a"
   },
   "outputs": [
    {
     "data": {
      "text/plain": [
       "Index([     u'coordinates',       u'created_at',         u'entities',\n",
       "         u'favorite_count',           u'id_str',             u'lang',\n",
       "               u'metadata',            u'place',    u'retweet_count',\n",
       "              u'retweeted', u'retweeted_status',             u'text',\n",
       "                   u'user',     u'num_hashtags'],\n",
       "      dtype='object')"
      ]
     },
     "execution_count": 33,
     "metadata": {
      "tags": []
     },
     "output_type": "execute_result"
    }
   ],
   "source": [
    "tweets_sel.columns"
   ]
  },
  {
   "cell_type": "code",
   "execution_count": 0,
   "metadata": {
    "colab": {
     "base_uri": "https://localhost:8080/",
     "height": 129
    },
    "colab_type": "code",
    "id": "iwi6JAEgcPh5",
    "outputId": "82b6b7b3-f38f-407f-c1f2-5eb3d160cc9d"
   },
   "outputs": [
    {
     "ename": "IndentationError",
     "evalue": "ignored",
     "output_type": "error",
     "traceback": [
      "\u001b[0;36m  File \u001b[0;32m\"<ipython-input-41-c16cb2a86ab3>\"\u001b[0;36m, line \u001b[0;32m8\u001b[0m\n\u001b[0;31m    place = tweets_sel.loc[i,'place']\u001b[0m\n\u001b[0m        ^\u001b[0m\n\u001b[0;31mIndentationError\u001b[0m\u001b[0;31m:\u001b[0m expected an indented block\n"
     ]
    }
   ],
   "source": [
    "def create_other_columns(tweets_sel):\n",
    "  tweets_sel['uploader_id'] = tweets_sel['user'].apply(lambda x: x['id_str'])\n",
    "  tweets_sel['uploader_name'] = tweets_sel['user'].apply(lambda x: x['name'])\n",
    "  tweets_sel['uploader_screen_name'] = tweets_sel['user'].apply(lambda x: x['screen_name'])\n",
    "  tweets_sel['num_likes']= tweets_sel['favorite_count']\n",
    "  tweets_sel['num_retweets'] = tweets_sel['retweet_count']\n",
    "  for i in range(tweets_sel.shape[0]):\n",
    "  place = tweets_sel.loc[i,'place']\n",
    "  if(type(place)==dict):\n",
    "    tweets_sel.loc[i,'tweet_country_name'] = place['country']\n",
    "    tweets_sel.loc[i,'tweet_location'] = place['full_name']\n",
    "  else:\n",
    "    tweets_sel.loc[i,'tweet_country_name'] = None\n",
    "    tweets_sel.loc[i,'tweet_location'] = None\n",
    "\n",
    "create_other_columns(tweets_sel)"
   ]
  },
  {
   "cell_type": "markdown",
   "metadata": {
    "colab_type": "text",
    "id": "fZ2P4R3EmFEd"
   },
   "source": [
    "## Make URLs df and #urls"
   ]
  },
  {
   "cell_type": "code",
   "execution_count": 0,
   "metadata": {
    "colab": {},
    "colab_type": "code",
    "id": "ZxAerAlimJQp"
   },
   "outputs": [],
   "source": [
    "def get_urls(tweets_sel):\n",
    "  urls_df = pd.DataFrame(columns=['tweet_id','url'])\n",
    "  for i in range(tweets_sel.shape[0]):\n",
    "    tweet_id = tweets_sel.loc[i,'id_str']\n",
    "    urls = list(map(lambda x:x.get('expanded_url'),tweets_sel.iloc[i]['entities']['urls']))\n",
    "    if(len(urls)!=0):\n",
    "      temp_df = pd.DataFrame(list(zip([tweet_id]*len(urls),urls)),columns=['tweet_id','url'])\n",
    "      urls_df = urls_df.append(temp_df,ignore_index=True)\n",
    "    tweets_sel.loc[i,'num_urls'] = len(urls)\n",
    "  return tweets_sel,urls_df"
   ]
  },
  {
   "cell_type": "code",
   "execution_count": 0,
   "metadata": {
    "colab": {
     "base_uri": "https://localhost:8080/",
     "height": 139
    },
    "colab_type": "code",
    "id": "WlYlpboEYIce",
    "outputId": "33042942-df02-433f-af09-56aa8308fd5f"
   },
   "outputs": [
    {
     "name": "stderr",
     "output_type": "stream",
     "text": [
      "/usr/local/lib/python2.7/dist-packages/pandas/core/indexing.py:362: SettingWithCopyWarning: \n",
      "A value is trying to be set on a copy of a slice from a DataFrame.\n",
      "Try using .loc[row_indexer,col_indexer] = value instead\n",
      "\n",
      "See the caveats in the documentation: http://pandas.pydata.org/pandas-docs/stable/indexing.html#indexing-view-versus-copy\n",
      "  self.obj[key] = _infer_fill_value(value)\n"
     ]
    }
   ],
   "source": [
    "tweets_sel,urls_df = get_urls(tweets_sel)"
   ]
  },
  {
   "cell_type": "code",
   "execution_count": 0,
   "metadata": {
    "colab": {
     "base_uri": "https://localhost:8080/",
     "height": 204
    },
    "colab_type": "code",
    "id": "_fF_GVLXYVfl",
    "outputId": "01f8cd5d-f7d3-4816-d129-0471bb702791"
   },
   "outputs": [
    {
     "data": {
      "text/plain": [
       "Index([         u'coordinates',           u'created_at',\n",
       "                   u'entities',       u'favorite_count',\n",
       "                     u'id_str',                 u'lang',\n",
       "                   u'metadata',                u'place',\n",
       "              u'retweet_count',            u'retweeted',\n",
       "           u'retweeted_status',                 u'text',\n",
       "                       u'user',         u'num_hashtags',\n",
       "                u'uploader_id',        u'uploader_name',\n",
       "       u'uploader_screen_name',            u'num_likes',\n",
       "               u'num_retweets',             u'num_urls'],\n",
       "      dtype='object')"
      ]
     },
     "execution_count": 38,
     "metadata": {
      "tags": []
     },
     "output_type": "execute_result"
    }
   ],
   "source": [
    "tweets_sel.columns"
   ]
  },
  {
   "cell_type": "markdown",
   "metadata": {
    "colab_type": "text",
    "id": "QvX612vCeAmy"
   },
   "source": [
    "## Make Usermentions DF and #user_mentions"
   ]
  },
  {
   "cell_type": "code",
   "execution_count": 0,
   "metadata": {
    "colab": {},
    "colab_type": "code",
    "id": "MDWy2umNd_fT"
   },
   "outputs": [],
   "source": [
    "def get_usermentions(tweets_sel):\n",
    "  usermentions_df = pd.DataFrame(columns=['tweet_id','user_id','name','screen_name'])\n",
    "  for i in range(tweets_sel.shape[0]):\n",
    "    tweet_id = tweets_sel.loc[i]['id_str']\n",
    "    usermentions = list(map(lambda x:[x.get(j) for j in ['id_str','name','screen_name']],tweets_sel.loc[i]['entities']['user_mentions']))\n",
    "    if(len(usermentions)!=0):\n",
    "      lists = [[tweet_id,j[0],j[1],j[2]] for j in usermentions]\n",
    "      temp_df = pd.DataFrame(lists,columns=['tweet_id','user_id','name','screen_name'])\n",
    "      usermentions_df = usermentions_df.append(temp_df,ignore_index=True)\n",
    "    tweets_sel.loc[i,'num_user_mentions'] = int(len(usermentions))\n",
    "  return tweets_sel,usermentions_df"
   ]
  },
  {
   "cell_type": "code",
   "execution_count": 0,
   "metadata": {
    "colab": {},
    "colab_type": "code",
    "id": "mou_TckVYjRk"
   },
   "outputs": [],
   "source": [
    "tweets_sel,usermentions_df = get_usermentions(tweets_sel)"
   ]
  },
  {
   "cell_type": "markdown",
   "metadata": {
    "colab_type": "text",
    "id": "zEsSL6U-Gi-A"
   },
   "source": [
    "## Making user_metadata DataFrame"
   ]
  },
  {
   "cell_type": "code",
   "execution_count": 0,
   "metadata": {
    "colab": {},
    "colab_type": "code",
    "id": "_khrygG_GiLI"
   },
   "outputs": [],
   "source": [
    "def make_usermetadata(tweets_sel):\n",
    "  cols = ['uploader_id','name','screen_name','description','location','followers_count','friends_count','created_at','favourites_count','lang','verified','statuses_count','url']\n",
    "  user_metadata_df = pd.DataFrame(columns=cols)\n",
    "  for i in range(tweets_sel.shape[0]):\n",
    "    tweet_id = tweets_sel.loc[i,'id_str']\n",
    "    #print(tweet_id)\n",
    "    #print(tweets_sel.loc[i,'user'])\n",
    "    user_data = [tweets_sel.loc[i,'user'][j] for j in ['id_str',]+cols[1:]]\n",
    "    if(len(user_data)!=0):\n",
    "      temp_df = pd.DataFrame([user_data],columns=cols)\n",
    "      user_metadata_df = user_metadata_df.append(temp_df,ignore_index=True)\n",
    "  return user_metadata_df\n",
    "\n",
    "user_metadata_df = make_usermetadata(tweets_sel)"
   ]
  },
  {
   "cell_type": "markdown",
   "metadata": {
    "colab_type": "text",
    "id": "9xlQcaCqe7mu"
   },
   "source": [
    "# User Timeline Data"
   ]
  },
  {
   "cell_type": "code",
   "execution_count": 0,
   "metadata": {
    "colab": {},
    "colab_type": "code",
    "id": "vjbZuKJffFOp"
   },
   "outputs": [],
   "source": [
    "timeline=twitter.get_user_timeline(screen_name='adrilik',count=2000,include_rts=True)"
   ]
  },
  {
   "cell_type": "code",
   "execution_count": 0,
   "metadata": {
    "colab": {},
    "colab_type": "code",
    "id": "QUjo1uaYgRgK"
   },
   "outputs": [],
   "source": [
    "#timeline[0:2]#.keys()\n"
   ]
  },
  {
   "cell_type": "code",
   "execution_count": 0,
   "metadata": {
    "colab": {},
    "colab_type": "code",
    "id": "Ub2RBaLQghhP"
   },
   "outputs": [],
   "source": [
    "#tweets_df = pd.DataFrame()\n",
    "#tweets_df = tweets_df.append(result['statuses'],ignore_index = True)\n",
    "#tweets_df.loc[0,'place']\n",
    "\n",
    "cols_timeline = ['tweet_id','text','created_at','user_id','name','screen_name']\n",
    "tweet_user_timeline_df = pd.DataFrame(columns=cols_timeline)\n",
    "#print(tweet_user_timeline_df)\n",
    "for i in range(len(timeline)):\n",
    "  tweet_id = timeline[i]['id_str']\n",
    "  text=timeline[i]['text']\n",
    "  created_at=timeline[i]['created_at']\n",
    "  user_data = [timeline[i]['user'][j] for j in ['id_str','name','screen_name']]\n",
    "  #print(user_data)\n",
    "  if(len(user_data)!=0):\n",
    "    lists_timeline = [tweet_id,text,created_at,]+user_data\n",
    "    temp_df = pd.DataFrame([lists_timeline],columns=cols_timeline)\n",
    "    tweet_user_timeline_df = tweet_user_timeline_df.append(temp_df,ignore_index=True)\n"
   ]
  },
  {
   "cell_type": "code",
   "execution_count": 0,
   "metadata": {
    "colab": {
     "base_uri": "https://localhost:8080/",
     "height": 374
    },
    "colab_type": "code",
    "id": "-PpNsegVm2Vn",
    "outputId": "dbf7733a-0701-4829-9dd2-336687f4b97c"
   },
   "outputs": [
    {
     "data": {
      "text/html": [
       "<div>\n",
       "<style scoped>\n",
       "    .dataframe tbody tr th:only-of-type {\n",
       "        vertical-align: middle;\n",
       "    }\n",
       "\n",
       "    .dataframe tbody tr th {\n",
       "        vertical-align: top;\n",
       "    }\n",
       "\n",
       "    .dataframe thead th {\n",
       "        text-align: right;\n",
       "    }\n",
       "</style>\n",
       "<table border=\"1\" class=\"dataframe\">\n",
       "  <thead>\n",
       "    <tr style=\"text-align: right;\">\n",
       "      <th></th>\n",
       "      <th>tweet_id</th>\n",
       "      <th>text</th>\n",
       "      <th>created_at</th>\n",
       "      <th>user_id</th>\n",
       "      <th>name</th>\n",
       "      <th>screen_name</th>\n",
       "    </tr>\n",
       "  </thead>\n",
       "  <tbody>\n",
       "    <tr>\n",
       "      <th>3</th>\n",
       "      <td>1120354429251870721</td>\n",
       "      <td>pero bueno :o https://t.co/Bm3v59a4o8</td>\n",
       "      <td>Mon Apr 22 15:51:25 +0000 2019</td>\n",
       "      <td>347350371</td>\n",
       "      <td>adrilik</td>\n",
       "      <td>adrilik</td>\n",
       "    </tr>\n",
       "    <tr>\n",
       "      <th>14</th>\n",
       "      <td>1120268780196827141</td>\n",
       "      <td>RT @DitzyFlama: https://t.co/XolZEyfuTH</td>\n",
       "      <td>Mon Apr 22 10:11:05 +0000 2019</td>\n",
       "      <td>347350371</td>\n",
       "      <td>adrilik</td>\n",
       "      <td>adrilik</td>\n",
       "    </tr>\n",
       "    <tr>\n",
       "      <th>83</th>\n",
       "      <td>1118298688131096577</td>\n",
       "      <td>nadie:\\n\\nlos mudos:\\n\\nnadie:\\n\\nlos mudos:\\n...</td>\n",
       "      <td>Tue Apr 16 23:42:38 +0000 2019</td>\n",
       "      <td>347350371</td>\n",
       "      <td>adrilik</td>\n",
       "      <td>adrilik</td>\n",
       "    </tr>\n",
       "    <tr>\n",
       "      <th>29</th>\n",
       "      <td>1119984815820898306</td>\n",
       "      <td>@pincheotaku uwu</td>\n",
       "      <td>Sun Apr 21 15:22:43 +0000 2019</td>\n",
       "      <td>347350371</td>\n",
       "      <td>adrilik</td>\n",
       "      <td>adrilik</td>\n",
       "    </tr>\n",
       "    <tr>\n",
       "      <th>144</th>\n",
       "      <td>1116093153499594753</td>\n",
       "      <td>@itsmeR4quel en plan los tipicos ofendidos que...</td>\n",
       "      <td>Wed Apr 10 21:38:38 +0000 2019</td>\n",
       "      <td>347350371</td>\n",
       "      <td>adrilik</td>\n",
       "      <td>adrilik</td>\n",
       "    </tr>\n",
       "  </tbody>\n",
       "</table>\n",
       "</div>"
      ],
      "text/plain": [
       "                tweet_id                                               text  \\\n",
       "3    1120354429251870721              pero bueno :o https://t.co/Bm3v59a4o8   \n",
       "14   1120268780196827141            RT @DitzyFlama: https://t.co/XolZEyfuTH   \n",
       "83   1118298688131096577  nadie:\\n\\nlos mudos:\\n\\nnadie:\\n\\nlos mudos:\\n...   \n",
       "29   1119984815820898306                                   @pincheotaku uwu   \n",
       "144  1116093153499594753  @itsmeR4quel en plan los tipicos ofendidos que...   \n",
       "\n",
       "                         created_at    user_id     name screen_name  \n",
       "3    Mon Apr 22 15:51:25 +0000 2019  347350371  adrilik     adrilik  \n",
       "14   Mon Apr 22 10:11:05 +0000 2019  347350371  adrilik     adrilik  \n",
       "83   Tue Apr 16 23:42:38 +0000 2019  347350371  adrilik     adrilik  \n",
       "29   Sun Apr 21 15:22:43 +0000 2019  347350371  adrilik     adrilik  \n",
       "144  Wed Apr 10 21:38:38 +0000 2019  347350371  adrilik     adrilik  "
      ]
     },
     "execution_count": 39,
     "metadata": {
      "tags": []
     },
     "output_type": "execute_result"
    }
   ],
   "source": [
    "tweet_user_timeline_df.sample(5)"
   ]
  },
  {
   "cell_type": "markdown",
   "metadata": {
    "colab_type": "text",
    "id": "H4dzuPM14Di0"
   },
   "source": [
    "# OSoME"
   ]
  },
  {
   "cell_type": "code",
   "execution_count": 15,
   "metadata": {
    "colab": {
     "base_uri": "https://localhost:8080/",
     "height": 34
    },
    "colab_type": "code",
    "id": "TgNbnLeE48K0",
    "outputId": "9ab4fc34-8539-40eb-97da-6c3d0089923b"
   },
   "outputs": [
    {
     "name": "stdout",
     "output_type": "stream",
     "text": [
      "pip 18.1 from /usr/lib/python2.7/dist-packages/pip (python 2.7)\r\n"
     ]
    }
   ],
   "source": [
    "!pip2 --version"
   ]
  },
  {
   "cell_type": "code",
   "execution_count": 3,
   "metadata": {
    "colab": {
     "base_uri": "https://localhost:8080/",
     "height": 71
    },
    "colab_type": "code",
    "id": "mdNA9C8TZWao",
    "outputId": "ba3dc754-16ea-445e-c0b2-7142c49524f4"
   },
   "outputs": [
    {
     "name": "stdout",
     "output_type": "stream",
     "text": [
      "Requirement already up-to-date: setuptools in /home/crocoder/.local/lib/python2.7/site-packages (41.0.1)\n",
      "Requirement already satisfied: poster in /home/crocoder/.local/lib/python2.7/site-packages (0.8.1)\n"
     ]
    }
   ],
   "source": [
    "# POSTER IS COMPATIBLE WITH ONLY PYTHON 2\n",
    "!pip2 install --upgrade setuptools\n",
    "!pip2 install poster\n",
    "import urllib2"
   ]
  },
  {
   "cell_type": "code",
   "execution_count": 4,
   "metadata": {
    "colab": {
     "base_uri": "https://localhost:8080/",
     "height": 229
    },
    "colab_type": "code",
    "id": "DNDdeK2iZrCj",
    "outputId": "b59550b3-d162-4874-912d-2e7e6846ed9b"
   },
   "outputs": [
    {
     "name": "stdout",
     "output_type": "stream",
     "text": [
      "Requirement already satisfied: unirest in /home/crocoder/.local/lib/python2.7/site-packages (1.1.7)\r\n",
      "Requirement already satisfied: poster>=0.8.1 in /home/crocoder/.local/lib/python2.7/site-packages (from unirest) (0.8.1)\r\n"
     ]
    }
   ],
   "source": [
    "!pip2 install unirest"
   ]
  },
  {
   "cell_type": "code",
   "execution_count": 5,
   "metadata": {
    "colab": {
     "base_uri": "https://localhost:8080/",
     "height": 411
    },
    "colab_type": "code",
    "id": "Drgw7-AjDmaU",
    "outputId": "a3060050-67a8-4a60-9fde-c0c8d0ebf691"
   },
   "outputs": [
    {
     "name": "stdout",
     "output_type": "stream",
     "text": [
      "HTTP/1.1 200 OK\r",
      "\r\n",
      "\u001b[1mAccess-Control-Allow-Headers\u001b[0m: Content-Type\r",
      "\r\n",
      "\u001b[1mAccess-Control-Allow-Methods\u001b[0m: HEAD, OPTIONS, GET\r",
      "\r\n",
      "\u001b[1mAccess-Control-Allow-Origin\u001b[0m: *\r",
      "\r\n",
      "\u001b[1mAccess-Control-Max-Age\u001b[0m: 21600\r",
      "\r\n",
      "\u001b[1mContent-Type\u001b[0m: application/json\r",
      "\r\n",
      "\u001b[1mDate\u001b[0m: Sun, 26 May 2019 02:43:36 GMT\r",
      "\r\n",
      "\u001b[1mServer\u001b[0m: RapidAPI-1.0.16\r",
      "\r\n",
      "\u001b[1mVary\u001b[0m: Accept-Encoding,User-Agent\r",
      "\r\n",
      "\u001b[1mX-RapidAPI-Region\u001b[0m: AWS - ap-southeast-1\r",
      "\r\n",
      "\u001b[1mX-RapidAPI-Version\u001b[0m: 1.0.16\r",
      "\r\n",
      "\u001b[1mX-RateLimit-requests-Limit\u001b[0m: 100\r",
      "\r\n",
      "\u001b[1mX-RateLimit-requests-Remaining\u001b[0m: 98\r",
      "\r\n",
      "\u001b[1mContent-Length\u001b[0m: 200\r",
      "\r\n",
      "\u001b[1mConnection\u001b[0m: keep-alive\r",
      "\r\n",
      "\r",
      "\r\n",
      "{\r\n",
      "  \"files\": [\r\n",
      "    \"https://osome.iuni.iu.edu/moe/jobs/2019-05-25/147ff676-140c-4164-ab72-35e98831d068/data/tweetIds/2018-01_tweetIds_0.txt\"\r\n",
      "  ], \r\n",
      "  \"job_id\": \"147ff676-140c-4164-ab72-35e98831d068\"\r\n",
      "}\r\n"
     ]
    }
   ],
   "source": [
    "!curl --get --include 'https://osome-public.p.rapidapi.com/tweet-id?q=%23gameofthrones&start=2018-01-01T00%3A00%3A00&end=2018-01-01T23%3A59%3A59' \\\n",
    "  -H 'X-RapidAPI-Host: osome-public.p.rapidapi.com' \\\n",
    "  -H 'X-RapidAPI-Key: 0493c0e0f4mshe80b4d8c8986e14p103af6jsna45ff41b76b1'"
   ]
  },
  {
   "cell_type": "code",
   "execution_count": 6,
   "metadata": {
    "colab": {},
    "colab_type": "code",
    "id": "3aPAVWUA8tUc"
   },
   "outputs": [],
   "source": [
    "import unirest\n",
    "response = unirest.get(\"https://osome-public.p.rapidapi.com/tweet-id?q=%23gameofthrones&start=2018-01-01T00%3A00%3A00&end=2018-01-01T23%3A59%3A59\",\n",
    "  headers={\n",
    "    \"X-RapidAPI-Host\": \"osome-public.p.rapidapi.com\",\n",
    "    \"X-RapidAPI-Key\": \"ffe7ad2b0fmshfd5922868484357p1c7e80jsn08f30f6f12e9\"\n",
    "  }\n",
    ")"
   ]
  },
  {
   "cell_type": "code",
   "execution_count": 7,
   "metadata": {
    "colab": {
     "base_uri": "https://localhost:8080/",
     "height": 35
    },
    "colab_type": "code",
    "id": "imY2yFLi9Ldk",
    "outputId": "07bf5301-ce70-4cd6-8151-3361df88d97d"
   },
   "outputs": [
    {
     "data": {
      "text/plain": [
       "200"
      ]
     },
     "execution_count": 7,
     "metadata": {},
     "output_type": "execute_result"
    }
   ],
   "source": [
    "response.code # The HTTP status code"
   ]
  },
  {
   "cell_type": "code",
   "execution_count": 8,
   "metadata": {
    "colab": {
     "base_uri": "https://localhost:8080/",
     "height": 35
    },
    "colab_type": "code",
    "id": "NwflQ7vAAHbT",
    "outputId": "ac522366-ee8d-4b94-c1a7-b1b253d02cb2"
   },
   "outputs": [
    {
     "data": {
      "text/plain": [
       "<httplib.HTTPMessage instance at 0x7fcb345c4fc8>"
      ]
     },
     "execution_count": 8,
     "metadata": {},
     "output_type": "execute_result"
    }
   ],
   "source": [
    "response.headers # The HTTP headers"
   ]
  },
  {
   "cell_type": "code",
   "execution_count": 14,
   "metadata": {
    "colab": {
     "base_uri": "https://localhost:8080/",
     "height": 52
    },
    "colab_type": "code",
    "id": "6tnWZOmsAii9",
    "outputId": "ed9299a9-2d7d-430d-f8e4-5cd0bfb22d2d"
   },
   "outputs": [
    {
     "name": "stdout",
     "output_type": "stream",
     "text": [
      "https://osome.iuni.iu.edu/moe/jobs/2019-05-25/d15e4d4f-db3e-4682-bc57-bff930f70a53/data/tweetIds/2018-01_tweetIds_0.txt\n"
     ]
    }
   ],
   "source": [
    "\n",
    "print(response.body['files'][0]) # The parsed response"
   ]
  },
  {
   "cell_type": "code",
   "execution_count": 0,
   "metadata": {
    "colab": {
     "base_uri": "https://localhost:8080/",
     "height": 55
    },
    "colab_type": "code",
    "id": "OUiDAHeSAofj",
    "outputId": "893b3691-bf4e-48ac-e5cc-2adbbd3c7937"
   },
   "outputs": [
    {
     "data": {
      "text/plain": [
       "'{\\n  \"files\": [\\n    \"https://osome.iuni.iu.edu/moe/jobs/2019-04-22/d5d2c1fb-7c83-4a81-905b-43b31be974c8/data/tweetIds/2018-01_tweetIds_0.txt\"\\n  ], \\n  \"job_id\": \"d5d2c1fb-7c83-4a81-905b-43b31be974c8\"\\n}\\n'"
      ]
     },
     "execution_count": 13,
     "metadata": {
      "tags": []
     },
     "output_type": "execute_result"
    }
   ],
   "source": [
    "response.raw_body # The unparsed response"
   ]
  },
  {
   "cell_type": "code",
   "execution_count": 0,
   "metadata": {
    "colab": {},
    "colab_type": "code",
    "id": "cRyDtsjLA5SU"
   },
   "outputs": [],
   "source": [
    "#To get status by ID\n",
    "status = twitter.show_status(id=\"947667682618478593\")\n",
    "print status['text']"
   ]
  },
  {
   "cell_type": "code",
   "execution_count": 0,
   "metadata": {
    "colab": {},
    "colab_type": "code",
    "id": "Gst7PUDUC3vX"
   },
   "outputs": [],
   "source": []
  },
  {
   "cell_type": "code",
   "execution_count": 0,
   "metadata": {
    "colab": {
     "base_uri": "https://localhost:8080/",
     "height": 196
    },
    "colab_type": "code",
    "id": "DBYELFR2csYZ",
    "outputId": "f3be209f-6580-4584-dc86-4ea6a6383258"
   },
   "outputs": [
    {
     "name": "stdout",
     "output_type": "stream",
     "text": [
      "Collecting mysql-connector\n",
      "\u001b[?25l  Downloading https://files.pythonhosted.org/packages/28/04/e40098f3730e75bbe36a338926f566ea803550a34fb50535499f4fc4787a/mysql-connector-2.2.9.tar.gz (11.9MB)\n",
      "\u001b[K    100% |████████████████████████████████| 11.9MB 2.3MB/s \n",
      "\u001b[?25hBuilding wheels for collected packages: mysql-connector\n",
      "  Building wheel for mysql-connector (setup.py) ... \u001b[?25ldone\n",
      "\u001b[?25h  Stored in directory: /root/.cache/pip/wheels/8c/83/a1/f8b6d4bb1bd6208bbde1608bbfa7557504bed9eaf2ecf8c175\n",
      "Successfully built mysql-connector\n",
      "Installing collected packages: mysql-connector\n",
      "Successfully installed mysql-connector-2.2.9\n"
     ]
    }
   ],
   "source": [
    "!pip install mysql-connector"
   ]
  },
  {
   "cell_type": "code",
   "execution_count": 0,
   "metadata": {
    "colab": {
     "base_uri": "https://localhost:8080/",
     "height": 2885
    },
    "colab_type": "code",
    "id": "80Dk4b8WBuMj",
    "outputId": "92bd76c8-b531-4453-ad5a-c0b08fa428ad"
   },
   "outputs": [
    {
     "name": "stdout",
     "output_type": "stream",
     "text": [
      "Reading package lists... Done\n",
      "Building dependency tree       \n",
      "Reading state information... Done\n",
      "The following package was automatically installed and is no longer required:\n",
      "  libnvidia-common-410\n",
      "Use 'sudo apt autoremove' to remove it.\n",
      "The following additional packages will be installed:\n",
      "  libaio1 libcgi-fast-perl libcgi-pm-perl libencode-locale-perl\n",
      "  libevent-core-2.1-6 libfcgi-perl libhtml-parser-perl libhtml-tagset-perl\n",
      "  libhtml-template-perl libhttp-date-perl libhttp-message-perl libio-html-perl\n",
      "  liblwp-mediatypes-perl libtimedate-perl liburi-perl mysql-client-5.7\n",
      "  mysql-client-core-5.7 mysql-server-5.7 mysql-server-core-5.7 psmisc\n",
      "Suggested packages:\n",
      "  libdata-dump-perl libipc-sharedcache-perl libwww-perl mailx tinyca\n",
      "The following NEW packages will be installed:\n",
      "  libaio1 libcgi-fast-perl libcgi-pm-perl libencode-locale-perl\n",
      "  libevent-core-2.1-6 libfcgi-perl libhtml-parser-perl libhtml-tagset-perl\n",
      "  libhtml-template-perl libhttp-date-perl libhttp-message-perl libio-html-perl\n",
      "  liblwp-mediatypes-perl libtimedate-perl liburi-perl mysql-client\n",
      "  mysql-client-5.7 mysql-client-core-5.7 mysql-server mysql-server-5.7\n",
      "  mysql-server-core-5.7 psmisc\n",
      "0 upgraded, 22 newly installed, 0 to remove and 6 not upgraded.\n",
      "Need to get 21.1 MB of archives.\n",
      "After this operation, 162 MB of additional disk space will be used.\n",
      "Get:1 http://archive.ubuntu.com/ubuntu bionic/main amd64 libaio1 amd64 0.3.110-5 [6,448 B]\n",
      "Get:2 http://archive.ubuntu.com/ubuntu bionic-updates/main amd64 mysql-client-core-5.7 amd64 5.7.25-0ubuntu0.18.04.2 [6,982 kB]\n",
      "Get:3 http://archive.ubuntu.com/ubuntu bionic-updates/main amd64 mysql-client-5.7 amd64 5.7.25-0ubuntu0.18.04.2 [2,312 kB]\n",
      "Get:4 http://archive.ubuntu.com/ubuntu bionic-updates/main amd64 mysql-server-core-5.7 amd64 5.7.25-0ubuntu0.18.04.2 [7,769 kB]\n",
      "Get:5 http://archive.ubuntu.com/ubuntu bionic-updates/main amd64 psmisc amd64 23.1-1ubuntu0.1 [52.5 kB]\n",
      "Get:6 http://archive.ubuntu.com/ubuntu bionic/main amd64 libevent-core-2.1-6 amd64 2.1.8-stable-4build1 [85.9 kB]\n",
      "Get:7 http://archive.ubuntu.com/ubuntu bionic-updates/main amd64 mysql-server-5.7 amd64 5.7.25-0ubuntu0.18.04.2 [3,196 kB]\n",
      "Get:8 http://archive.ubuntu.com/ubuntu bionic/main amd64 libhtml-tagset-perl all 3.20-3 [12.1 kB]\n",
      "Get:9 http://archive.ubuntu.com/ubuntu bionic/main amd64 liburi-perl all 1.73-1 [77.2 kB]\n",
      "Get:10 http://archive.ubuntu.com/ubuntu bionic/main amd64 libhtml-parser-perl amd64 3.72-3build1 [85.9 kB]\n",
      "Get:11 http://archive.ubuntu.com/ubuntu bionic/main amd64 libcgi-pm-perl all 4.38-1 [185 kB]\n",
      "Get:12 http://archive.ubuntu.com/ubuntu bionic/main amd64 libfcgi-perl amd64 0.78-2build1 [32.8 kB]\n",
      "Get:13 http://archive.ubuntu.com/ubuntu bionic/main amd64 libcgi-fast-perl all 1:2.13-1 [9,940 B]\n",
      "Get:14 http://archive.ubuntu.com/ubuntu bionic/main amd64 libencode-locale-perl all 1.05-1 [12.3 kB]\n",
      "Get:15 http://archive.ubuntu.com/ubuntu bionic/main amd64 libhtml-template-perl all 2.97-1 [59.0 kB]\n",
      "Get:16 http://archive.ubuntu.com/ubuntu bionic/main amd64 libtimedate-perl all 2.3000-2 [37.5 kB]\n",
      "Get:17 http://archive.ubuntu.com/ubuntu bionic/main amd64 libhttp-date-perl all 6.02-1 [10.4 kB]\n",
      "Get:18 http://archive.ubuntu.com/ubuntu bionic/main amd64 libio-html-perl all 1.001-1 [14.9 kB]\n",
      "Get:19 http://archive.ubuntu.com/ubuntu bionic/main amd64 liblwp-mediatypes-perl all 6.02-1 [21.7 kB]\n",
      "Get:20 http://archive.ubuntu.com/ubuntu bionic/main amd64 libhttp-message-perl all 6.14-1 [72.1 kB]\n",
      "Get:21 http://archive.ubuntu.com/ubuntu bionic-updates/main amd64 mysql-client all 5.7.25-0ubuntu0.18.04.2 [9,824 B]\n",
      "Get:22 http://archive.ubuntu.com/ubuntu bionic-updates/main amd64 mysql-server all 5.7.25-0ubuntu0.18.04.2 [9,944 B]\n",
      "Fetched 21.1 MB in 3s (8,157 kB/s)\n",
      "debconf: unable to initialize frontend: Dialog\n",
      "debconf: (No usable dialog-like program is installed, so the dialog based frontend cannot be used. at /usr/share/perl5/Debconf/FrontEnd/Dialog.pm line 76, <> line 22.)\n",
      "debconf: falling back to frontend: Readline\n",
      "debconf: unable to initialize frontend: Readline\n",
      "debconf: (This frontend requires a controlling tty.)\n",
      "debconf: falling back to frontend: Teletype\n",
      "dpkg-preconfigure: unable to re-open stdin: \n",
      "Selecting previously unselected package libaio1:amd64.\n",
      "(Reading database ... 131304 files and directories currently installed.)\n",
      "Preparing to unpack .../00-libaio1_0.3.110-5_amd64.deb ...\n",
      "Unpacking libaio1:amd64 (0.3.110-5) ...\n",
      "Selecting previously unselected package mysql-client-core-5.7.\n",
      "Preparing to unpack .../01-mysql-client-core-5.7_5.7.25-0ubuntu0.18.04.2_amd64.deb ...\n",
      "Unpacking mysql-client-core-5.7 (5.7.25-0ubuntu0.18.04.2) ...\n",
      "Selecting previously unselected package mysql-client-5.7.\n",
      "Preparing to unpack .../02-mysql-client-5.7_5.7.25-0ubuntu0.18.04.2_amd64.deb ...\n",
      "Unpacking mysql-client-5.7 (5.7.25-0ubuntu0.18.04.2) ...\n",
      "Selecting previously unselected package mysql-server-core-5.7.\n",
      "Preparing to unpack .../03-mysql-server-core-5.7_5.7.25-0ubuntu0.18.04.2_amd64.deb ...\n",
      "Unpacking mysql-server-core-5.7 (5.7.25-0ubuntu0.18.04.2) ...\n",
      "Selecting previously unselected package psmisc.\n",
      "Preparing to unpack .../04-psmisc_23.1-1ubuntu0.1_amd64.deb ...\n",
      "Unpacking psmisc (23.1-1ubuntu0.1) ...\n",
      "Selecting previously unselected package libevent-core-2.1-6:amd64.\n",
      "Preparing to unpack .../05-libevent-core-2.1-6_2.1.8-stable-4build1_amd64.deb ...\n",
      "Unpacking libevent-core-2.1-6:amd64 (2.1.8-stable-4build1) ...\n",
      "Selecting previously unselected package mysql-server-5.7.\n",
      "Preparing to unpack .../06-mysql-server-5.7_5.7.25-0ubuntu0.18.04.2_amd64.deb ...\n",
      "debconf: unable to initialize frontend: Dialog\n",
      "debconf: (No usable dialog-like program is installed, so the dialog based frontend cannot be used. at /usr/share/perl5/Debconf/FrontEnd/Dialog.pm line 76.)\n",
      "debconf: falling back to frontend: Readline\n",
      "Unpacking mysql-server-5.7 (5.7.25-0ubuntu0.18.04.2) ...\n",
      "Selecting previously unselected package libhtml-tagset-perl.\n",
      "Preparing to unpack .../07-libhtml-tagset-perl_3.20-3_all.deb ...\n",
      "Unpacking libhtml-tagset-perl (3.20-3) ...\n",
      "Selecting previously unselected package liburi-perl.\n",
      "Preparing to unpack .../08-liburi-perl_1.73-1_all.deb ...\n",
      "Unpacking liburi-perl (1.73-1) ...\n",
      "Selecting previously unselected package libhtml-parser-perl.\n",
      "Preparing to unpack .../09-libhtml-parser-perl_3.72-3build1_amd64.deb ...\n",
      "Unpacking libhtml-parser-perl (3.72-3build1) ...\n",
      "Selecting previously unselected package libcgi-pm-perl.\n",
      "Preparing to unpack .../10-libcgi-pm-perl_4.38-1_all.deb ...\n",
      "Unpacking libcgi-pm-perl (4.38-1) ...\n",
      "Selecting previously unselected package libfcgi-perl.\n",
      "Preparing to unpack .../11-libfcgi-perl_0.78-2build1_amd64.deb ...\n",
      "Unpacking libfcgi-perl (0.78-2build1) ...\n",
      "Selecting previously unselected package libcgi-fast-perl.\n",
      "Preparing to unpack .../12-libcgi-fast-perl_1%3a2.13-1_all.deb ...\n",
      "Unpacking libcgi-fast-perl (1:2.13-1) ...\n",
      "Selecting previously unselected package libencode-locale-perl.\n",
      "Preparing to unpack .../13-libencode-locale-perl_1.05-1_all.deb ...\n",
      "Unpacking libencode-locale-perl (1.05-1) ...\n",
      "Selecting previously unselected package libhtml-template-perl.\n",
      "Preparing to unpack .../14-libhtml-template-perl_2.97-1_all.deb ...\n",
      "Unpacking libhtml-template-perl (2.97-1) ...\n",
      "Selecting previously unselected package libtimedate-perl.\n",
      "Preparing to unpack .../15-libtimedate-perl_2.3000-2_all.deb ...\n",
      "Unpacking libtimedate-perl (2.3000-2) ...\n",
      "Selecting previously unselected package libhttp-date-perl.\n",
      "Preparing to unpack .../16-libhttp-date-perl_6.02-1_all.deb ...\n",
      "Unpacking libhttp-date-perl (6.02-1) ...\n",
      "Selecting previously unselected package libio-html-perl.\n",
      "Preparing to unpack .../17-libio-html-perl_1.001-1_all.deb ...\n",
      "Unpacking libio-html-perl (1.001-1) ...\n",
      "Selecting previously unselected package liblwp-mediatypes-perl.\n",
      "Preparing to unpack .../18-liblwp-mediatypes-perl_6.02-1_all.deb ...\n",
      "Unpacking liblwp-mediatypes-perl (6.02-1) ...\n",
      "Selecting previously unselected package libhttp-message-perl.\n",
      "Preparing to unpack .../19-libhttp-message-perl_6.14-1_all.deb ...\n",
      "Unpacking libhttp-message-perl (6.14-1) ...\n",
      "Selecting previously unselected package mysql-client.\n",
      "Preparing to unpack .../20-mysql-client_5.7.25-0ubuntu0.18.04.2_all.deb ...\n",
      "Unpacking mysql-client (5.7.25-0ubuntu0.18.04.2) ...\n",
      "Selecting previously unselected package mysql-server.\n",
      "Preparing to unpack .../21-mysql-server_5.7.25-0ubuntu0.18.04.2_all.deb ...\n",
      "Unpacking mysql-server (5.7.25-0ubuntu0.18.04.2) ...\n",
      "Setting up libhtml-tagset-perl (3.20-3) ...\n",
      "Setting up libevent-core-2.1-6:amd64 (2.1.8-stable-4build1) ...\n",
      "Setting up psmisc (23.1-1ubuntu0.1) ...\n",
      "Setting up libencode-locale-perl (1.05-1) ...\n",
      "Setting up libtimedate-perl (2.3000-2) ...\n",
      "Setting up libio-html-perl (1.001-1) ...\n",
      "Setting up liblwp-mediatypes-perl (6.02-1) ...\n",
      "Processing triggers for libc-bin (2.27-3ubuntu1) ...\n",
      "Setting up libaio1:amd64 (0.3.110-5) ...\n",
      "Setting up liburi-perl (1.73-1) ...\n",
      "Processing triggers for systemd (237-3ubuntu10.17) ...\n",
      "Setting up libhtml-parser-perl (3.72-3build1) ...\n",
      "Setting up libcgi-pm-perl (4.38-1) ...\n",
      "Processing triggers for man-db (2.8.3-2ubuntu0.1) ...\n",
      "Setting up mysql-client-core-5.7 (5.7.25-0ubuntu0.18.04.2) ...\n",
      "Setting up libfcgi-perl (0.78-2build1) ...\n",
      "Setting up libhttp-date-perl (6.02-1) ...\n",
      "Setting up libhtml-template-perl (2.97-1) ...\n",
      "Setting up mysql-server-core-5.7 (5.7.25-0ubuntu0.18.04.2) ...\n",
      "Setting up libcgi-fast-perl (1:2.13-1) ...\n",
      "Setting up libhttp-message-perl (6.14-1) ...\n",
      "Setting up mysql-client-5.7 (5.7.25-0ubuntu0.18.04.2) ...\n",
      "Setting up mysql-client (5.7.25-0ubuntu0.18.04.2) ...\n",
      "Setting up mysql-server-5.7 (5.7.25-0ubuntu0.18.04.2) ...\n",
      "debconf: unable to initialize frontend: Dialog\n",
      "debconf: (No usable dialog-like program is installed, so the dialog based frontend cannot be used. at /usr/share/perl5/Debconf/FrontEnd/Dialog.pm line 76.)\n",
      "debconf: falling back to frontend: Readline\n",
      "invoke-rc.d: could not determine current runlevel\n",
      "invoke-rc.d: policy-rc.d denied execution of stop.\n",
      "update-alternatives: using /etc/mysql/mysql.cnf to provide /etc/mysql/my.cnf (my.cnf) in auto mode\n",
      "Renaming removed key_buffer and myisam-recover options (if present)\n",
      "Created symlink /etc/systemd/system/multi-user.target.wants/mysql.service → /lib/systemd/system/mysql.service.\n",
      "invoke-rc.d: could not determine current runlevel\n",
      "invoke-rc.d: policy-rc.d denied execution of start.\n",
      "Setting up mysql-server (5.7.25-0ubuntu0.18.04.2) ...\n",
      "Processing triggers for libc-bin (2.27-3ubuntu1) ...\n",
      "Processing triggers for systemd (237-3ubuntu10.17) ...\n"
     ]
    }
   ],
   "source": [
    "!sudo apt install mysql-server mysql-client"
   ]
  },
  {
   "cell_type": "code",
   "execution_count": 0,
   "metadata": {
    "colab": {},
    "colab_type": "code",
    "id": "jWuIKU6tCIi7"
   },
   "outputs": [],
   "source": [
    "import mysql.connector"
   ]
  },
  {
   "cell_type": "code",
   "execution_count": 0,
   "metadata": {
    "colab": {
     "base_uri": "https://localhost:8080/",
     "height": 35
    },
    "colab_type": "code",
    "id": "XXz1n2_eCals",
    "outputId": "c503c324-dda3-43ba-8c42-d564b201f32c"
   },
   "outputs": [
    {
     "name": "stdout",
     "output_type": "stream",
     "text": [
      "mysql: [ERROR] unknown option '--skip-grant-tables'\n"
     ]
    }
   ],
   "source": [
    "mydb = mysql.connector.connect(\n",
    "  host=\"localhost\",\n",
    "  user=\"root\",\n",
    "  passwd=\"yourpassword\"\n",
    ")\n",
    "\n",
    "print(mydb)\n",
    "\n",
    "mycursor = mydb.cursor()\n",
    "\n",
    "mycursor.execute(\"CREATE DATABASE mydatabase\")\n",
    "\n"
   ]
  },
  {
   "cell_type": "code",
   "execution_count": 0,
   "metadata": {
    "colab": {},
    "colab_type": "code",
    "id": "9Q_Y0rktED7b"
   },
   "outputs": [],
   "source": [
    "mydb_1 = mysql.connector.connect(\n",
    "  host=\"localhost\",\n",
    "  user=\"root\",\n",
    "  passwd=\"yourpassword\",\n",
    "  database=\"mydatabase\"\n",
    ")\n",
    "\n",
    "mycursor_1 = mydb_1.cursor()\n",
    "\n",
    "mycursor_1.execute(\"CREATE TABLE tweet_metadata (tweet_id primary key VARCHAR(255), place VARCHAR(255),..)\")\n",
    "\n",
    "#inserting into table\n",
    "\n",
    "sql = \"INSERT INTO customers (tweet_id, place) VALUES (%s, %s)\"\n",
    "val = [\n",
    "  ('Peter', 'Lowstreet 4'),\n",
    "  ('Amy', 'Apple st 652'),\n",
    "  ('Hannah', 'Mountain 21'),\n",
    "  ('Michael', 'Valley 345'),\n",
    "  ('Sandy', 'Ocean blvd 2'),\n",
    "  ('Betty', 'Green Grass 1'),\n",
    "  ('Richard', 'Sky st 331'),\n",
    "  ('Susan', 'One way 98'),\n",
    "  ('Vicky', 'Yellow Garden 2'),\n",
    "  ('Ben', 'Park Lane 38'),\n",
    "  ('William', 'Central st 954'),\n",
    "  ('Chuck', 'Main Road 989'),\n",
    "  ('Viola', 'Sideway 1633')\n",
    "]\n",
    "\n",
    "mycursor_1.executemany(sql, val)\n",
    "\n",
    "mydb_1.commit()\n",
    "\n",
    "print(mycursor.rowcount, \"was inserted.\")"
   ]
  }
 ],
 "metadata": {
  "colab": {
   "collapsed_sections": [],
   "name": "Twython Attempts",
   "provenance": [],
   "version": "0.3.2"
  },
  "kernelspec": {
   "display_name": "Python 2",
   "language": "python",
   "name": "python2"
  },
  "language_info": {
   "codemirror_mode": {
    "name": "ipython",
    "version": 2
   },
   "file_extension": ".py",
   "mimetype": "text/x-python",
   "name": "python",
   "nbconvert_exporter": "python",
   "pygments_lexer": "ipython2",
   "version": "2.7.16"
  }
 },
 "nbformat": 4,
 "nbformat_minor": 1
}
